{
 "cells": [
  {
   "cell_type": "code",
   "execution_count": null,
   "metadata": {},
   "outputs": [
    {
     "name": "stdout",
     "output_type": "stream",
     "text": [
      "Enter station ID8729108\n",
      "Enter date:today\n",
      "Enter a product:water_level\n",
      "Retrieving https://tidesandcurrents.noaa.gov/waterlevels.html?date=today&product=water_level&id=8729108\n",
      "Retrieved 41102 characters\n"
     ]
    }
   ],
   "source": [
    "import urllib.request, urllib.parse, urllib.error\n",
    "import json\n",
    "\n",
    "serviceurl = 'https://tidesandcurrents.noaa.gov/waterlevels.html'\n",
    "\n",
    "while True:\n",
    "    id = input('Enter station ID')\n",
    "    if len(id) < 1: break\n",
    "    date = input('Enter date:')\n",
    "    if len(date) < 1: break\n",
    "    product = input('Enter a product:')\n",
    "    if len(product) < 1: break \n",
    "\n",
    "    url = serviceurl + \"?\" + urllib.parse.urlencode({'date': date, 'product': product, 'id': id}) \n",
    "\n",
    "    print('Retrieving', url)\n",
    "    uh = urllib.request.urlopen(url)\n",
    "    data = uh.read().decode()\n",
    "    print('Retrieved', len(data), 'characters')"
   ]
  },
  {
   "cell_type": "code",
   "execution_count": null,
   "metadata": {},
   "outputs": [],
   "source": []
  }
 ],
 "metadata": {
  "kernelspec": {
   "display_name": "Python 3",
   "language": "python",
   "name": "python3"
  },
  "language_info": {
   "codemirror_mode": {
    "name": "ipython",
    "version": 3
   },
   "file_extension": ".py",
   "mimetype": "text/x-python",
   "name": "python",
   "nbconvert_exporter": "python",
   "pygments_lexer": "ipython3",
   "version": "3.6.5"
  }
 },
 "nbformat": 4,
 "nbformat_minor": 2
}
